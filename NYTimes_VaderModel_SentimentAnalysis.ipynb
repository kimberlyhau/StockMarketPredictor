{
  "nbformat": 4,
  "nbformat_minor": 0,
  "metadata": {
    "colab": {
      "name": "NYTimes_VaderModel_SentimentAnalysis.ipynb",
      "provenance": [],
      "collapsed_sections": [],
      "include_colab_link": true
    },
    "kernelspec": {
      "name": "python3",
      "display_name": "Python 3"
    },
    "language_info": {
      "name": "python"
    }
  },
  "cells": [
    {
      "cell_type": "markdown",
      "metadata": {
        "id": "view-in-github",
        "colab_type": "text"
      },
      "source": [
        "<a href=\"https://colab.research.google.com/github/kimberlyhau/StockMarketPredictor/blob/main/NYTimes_VaderModel_SentimentAnalysis.ipynb\" target=\"_parent\"><img src=\"https://colab.research.google.com/assets/colab-badge.svg\" alt=\"Open In Colab\"/></a>"
      ]
    },
    {
      "cell_type": "code",
      "execution_count": null,
      "metadata": {
        "colab": {
          "base_uri": "https://localhost:8080/"
        },
        "id": "ddnzqm5E5WyY",
        "outputId": "8181c6a8-e764-4d74-ceaf-aedd784903ee"
      },
      "outputs": [
        {
          "output_type": "stream",
          "name": "stdout",
          "text": [
            "Drive already mounted at /content/drive; to attempt to forcibly remount, call drive.mount(\"/content/drive\", force_remount=True).\n"
          ]
        }
      ],
      "source": [
        "from google.colab import drive\n",
        "drive.mount('/content/drive')"
      ]
    },
    {
      "cell_type": "code",
      "source": [
        "import numpy as np\n",
        "import pandas as pd"
      ],
      "metadata": {
        "id": "ZU_At2MrSc49"
      },
      "execution_count": null,
      "outputs": []
    },
    {
      "cell_type": "code",
      "source": [
        "import nltk\n",
        "nltk.download('vader_lexicon')\n",
        "from nltk.sentiment.vader import SentimentIntensityAnalyzer"
      ],
      "metadata": {
        "id": "HLzG79kE4nmz",
        "colab": {
          "base_uri": "https://localhost:8080/"
        },
        "outputId": "5d285efb-c9f3-4427-874b-218894636c12"
      },
      "execution_count": null,
      "outputs": [
        {
          "output_type": "stream",
          "name": "stdout",
          "text": [
            "[nltk_data] Downloading package vader_lexicon to /root/nltk_data...\n",
            "[nltk_data]   Package vader_lexicon is already up-to-date!\n"
          ]
        },
        {
          "output_type": "stream",
          "name": "stderr",
          "text": [
            "/usr/local/lib/python3.7/dist-packages/nltk/twitter/__init__.py:20: UserWarning: The twython library has not been installed. Some functionality from the twitter package will not be available.\n",
            "  warnings.warn(\"The twython library has not been installed. \"\n"
          ]
        }
      ]
    },
    {
      "cell_type": "code",
      "source": [
        "import os\n",
        "os.chdir(\"drive/My Drive\")"
      ],
      "metadata": {
        "id": "hKJb37is8JML"
      },
      "execution_count": null,
      "outputs": []
    },
    {
      "cell_type": "code",
      "source": [
        "folder = os.path.join('/content/drive/My Drive/cnnData3/cnnData2')"
      ],
      "metadata": {
        "id": "OK_VpB3L85W_"
      },
      "execution_count": null,
      "outputs": []
    },
    {
      "cell_type": "code",
      "source": [
        "#import io"
      ],
      "metadata": {
        "id": "tQH2mO9uer0E"
      },
      "execution_count": null,
      "outputs": []
    },
    {
      "cell_type": "code",
      "source": [
        "covid_set_lc = ('Covid-19','Covid', 'Corona', 'Coronavirus', 'Sars', 'Sars-Cov-2', 'Virus', 'Case', 'Cases', 'Pandemic', 'Epidemic', 'Endemic', 'Outbreak', 'Deaths', 'Masks', 'N95', 'Ppe','Contact Tracing', 'Contact-Tracing', 'Testing', 'Screening', 'Mandates', 'Social Distance', 'Social Distancing', 'Physical Distance', 'Physical Distancing', 'Self-Quarantine', 'Self Quarantine', 'Quarantine', 'Isolation', 'Isolating', 'Isolate', 'Self-Isolation', 'Self-Isolating', 'Self-Isolate', 'Martial Law', 'Curfew', 'Transmission', 'Spreading', 'Spread', 'Spreader', 'Super-Spreader', 'Fomite', 'Contagious', 'Infectious', 'Cluster', 'Incubation Period', 'Symptoms', 'Asymptomatic', 'Vaccine', 'Vaccines', 'Vaccination', 'Vaccinations', 'Vaccinating', 'Side-Effect', 'Side-Effects', 'Side Effect', 'Side Effects', 'Ventilator', 'Ventilators' )\n",
        "covid_set = set()\n",
        "for word in covid_set_lc:\n",
        "  covid_set.add(word)\n",
        "  covid_set.add(word.lower())\n",
        "  covid_set.add(word.upper())"
      ],
      "metadata": {
        "id": "0HpB-g0FIJ-h"
      },
      "execution_count": null,
      "outputs": []
    },
    {
      "cell_type": "code",
      "source": [
        "def is_covid_related(headline, covid_set):\n",
        "  prev_word = ''\n",
        "  for word in headline.split():\n",
        "    if word in covid_set or prev_word + ' ' + word in covid_set:\n",
        "      return True\n",
        "    prev_word = word\n",
        "  return False\n"
      ],
      "metadata": {
        "id": "GaguvwADGlbS"
      },
      "execution_count": null,
      "outputs": []
    },
    {
      "cell_type": "code",
      "source": [
        "print (len(os.listdir(folder)))"
      ],
      "metadata": {
        "id": "soVGLoDHSKnJ",
        "colab": {
          "base_uri": "https://localhost:8080/"
        },
        "outputId": "4f54d0e5-9419-4c63-df88-6502e075e22f"
      },
      "execution_count": null,
      "outputs": [
        {
          "output_type": "stream",
          "name": "stdout",
          "text": [
            "15581\n"
          ]
        }
      ]
    },
    {
      "cell_type": "code",
      "source": [
        "def covid_article_sentiments():\n",
        "  article_sentiments = []\n",
        "\n",
        "  # for filename in os.listdir(folder):\n",
        "  text = pd.read_csv('/content/drive/My Drive/NYTimes/nyTimes_2021.txt').sort_values('pub_date') #+str(filename))\n",
        "  temp  = text['pub_date'].str.split('T', n  =1,  expand = True)\n",
        "\n",
        "  text['pub_date'] = temp[0]\n",
        "  text['pub_date'] = pd.to_datetime(text['pub_date'])\n",
        "  split_date = pd.datetime(2022,1,31)\n",
        " \n",
        "  for i in range(0,len(text)):\n",
        "    tempFile = text.iloc[i]['headline.main']\n",
        "    \n",
        "    if is_covid_related(str(tempFile), covid_set):\n",
        "    #file_object = open(folder + \"/\" + filename, \"r\")\n",
        "  # with open(folder + \"/\" + filename, 'r') as file_obj:\n",
        "  #   text = file_obj.read()\n",
        "  #   print (text)\n",
        "      txt_list = tempFile.split(',', 8)\n",
        "      \n",
        "      date = text.iloc[i]['pub_date']\n",
        "      sentiment = SentimentIntensityAnalyzer().polarity_scores(tempFile)['compound'] #txt_list[7]\n",
        "      info = [date, sentiment]\n",
        "      article_sentiments.append(info)\n",
        "  return article_sentiments\n"
      ],
      "metadata": {
        "id": "siPGNMUtSbAx"
      },
      "execution_count": null,
      "outputs": []
    },
    {
      "cell_type": "code",
      "source": [
        "article_sentiments = covid_article_sentiments()"
      ],
      "metadata": {
        "id": "jLrmlrMjHyYk",
        "colab": {
          "base_uri": "https://localhost:8080/"
        },
        "outputId": "5a1c14b3-8854-4657-d8bb-07365d4fb55c"
      },
      "execution_count": null,
      "outputs": [
        {
          "output_type": "stream",
          "name": "stderr",
          "text": [
            "/usr/local/lib/python3.7/dist-packages/ipykernel_launcher.py:10: FutureWarning: The pandas.datetime class is deprecated and will be removed from pandas in a future version. Import from datetime module instead.\n",
            "  # Remove the CWD from sys.path while we load stuff.\n"
          ]
        }
      ]
    },
    {
      "cell_type": "code",
      "source": [
        "with open('sentimentsNY_2.txt', 'w') as f:\n",
        "  for sentiment in article_sentiments:\n",
        "    f.write(str(sentiment))"
      ],
      "metadata": {
        "id": "7X_-bRsXOs9k"
      },
      "execution_count": null,
      "outputs": []
    },
    {
      "cell_type": "code",
      "source": [
        "filenames = [\"sentimentsNY.txt\", \"sentimentsNY_2.txt\", \"sentimentsNY_3.txt\"]\n",
        "\n",
        "with open(\"sentimentsNY_final.txt\", \"w\") as outfile:\n",
        "    for filename in filenames:\n",
        "        with open(filename) as infile:\n",
        "            contents = infile.read()\n",
        "            outfile.write(contents)"
      ],
      "metadata": {
        "id": "q8UCrQ2ut5WK"
      },
      "execution_count": null,
      "outputs": []
    }
  ]
}