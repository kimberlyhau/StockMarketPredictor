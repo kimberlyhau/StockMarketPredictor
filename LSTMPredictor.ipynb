{
  "nbformat": 4,
  "nbformat_minor": 0,
  "metadata": {
    "colab": {
      "name": "LSTMPredictor.ipynb",
      "provenance": []
    },
    "kernelspec": {
      "name": "python3",
      "display_name": "Python 3"
    },
    "language_info": {
      "name": "python"
    }
  },
  "cells": [
    {
      "cell_type": "markdown",
      "source": [
        "# LSTM Network for Predicting Stock Prices"
      ],
      "metadata": {
        "id": "uluLTY7a3bNP"
      }
    },
    {
      "cell_type": "markdown",
      "source": [
        "Input: for [] window: number of articles per day, average sentiment score, stock price\n",
        "\n",
        "Target: stock price for [] window"
      ],
      "metadata": {
        "id": "c6PtevyE25Ul" 
      }
    },
    {
      "cell_type": "code",
      "execution_count": null,
      "metadata": {
        "id": "aPZQQ6-H2w0p"
      },
      "outputs": [],
      "source": [
        "import torch\n",
        "import torch.nn as nn\n",
        "import numpy as np"
      ]
    },
    {
      "cell_type": "code",
      "source": [
        "input_features = 3\n",
        "hidden = 20\n",
        "class Model(nn.Module):\n",
        "    \n",
        "    def __init__(self):\n",
        "        super(Model, self).__init__()\n",
        "        self.lstm = nn.LSTM (input_size=input_features, hidden_size= hidden, num_layers = 1,)\n",
        "        self.linear = nn.Linear(hidden,1)\n",
        "\n",
        "    def forward(self,x):\n",
        "      out = self.lstm(x)\n",
        "      out = self.linear(out)\n",
        "      return out"
      ],
      "metadata": {
        "id": "PQbcSU1C7wWj"
      },
      "execution_count": null,
      "outputs": []
    },
    {
      "cell_type": "code",
      "source": [
        "net = Model()\n",
        "learning_rate = 0.05\n",
        "criterion = nn.BCELoss()\n",
        "optimizer = optim.Adam(net.parameters(), lr=learning_rate)"
      ],
      "metadata": {
        "id": "JBb6G95W89ep"
      },
      "execution_count": null,
      "outputs": []
    },
    {
      "cell_type": "code",
      "source": [
        "epochs = 5\n",
        "\n",
        "for epoch in range(epochs):\n",
        "  y = net(input)\n",
        "  loss = criterion (y, target)\n",
        "  optimizer.zero_grad()\n",
        "  loss.backward()\n",
        "  optimizer.step()"
      ],
      "metadata": {
        "id": "OdTTvg_iBryV"
      },
      "execution_count": null,
      "outputs": []
    }
  ]
}
