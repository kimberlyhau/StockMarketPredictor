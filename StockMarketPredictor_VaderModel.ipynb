{
  "nbformat": 4,
  "nbformat_minor": 0,
  "metadata": {
    "colab": {
      "name": "StockMarketPredictor_VaderModel.ipynb",
      "provenance": [],
      "authorship_tag": "ABX9TyPpDKHeaXN9l2j/JJXHoXb8",
      "include_colab_link": true
    },
    "kernelspec": {
      "name": "python3",
      "display_name": "Python 3"
    },
    "language_info": {
      "name": "python"
    }
  },
  "cells": [
    {
      "cell_type": "markdown",
      "metadata": {
        "id": "view-in-github",
        "colab_type": "text"
      },
      "source": [
        "<a href=\"https://colab.research.google.com/github/kimberlyhau/StockMarketPredictor/blob/main/StockMarketPredictor_VaderModel.ipynb\" target=\"_parent\"><img src=\"https://colab.research.google.com/assets/colab-badge.svg\" alt=\"Open In Colab\"/></a>"
      ]
    },
    {
      "cell_type": "code",
      "execution_count": 2,
      "metadata": {
        "colab": {
          "base_uri": "https://localhost:8080/"
        },
        "id": "ddnzqm5E5WyY",
        "outputId": "1742b817-3ce1-484c-ec6b-4402a1eb2c0f"
      },
      "outputs": [
        {
          "output_type": "stream",
          "name": "stdout",
          "text": [
            "Mounted at /content/drive\n"
          ]
        }
      ],
      "source": [
        "from google.colab import drive\n",
        "drive.mount('/content/drive')"
      ]
    },
    {
      "cell_type": "code",
      "source": [
        "import numpy as np\n",
        "import pandas as pd"
      ],
      "metadata": {
        "id": "ZU_At2MrSc49"
      },
      "execution_count": 3,
      "outputs": []
    },
    {
      "cell_type": "code",
      "source": [
        "import nltk\n",
        "nltk.download('vader_lexicon')\n",
        "from nltk.sentiment.vader import SentimentIntensityAnalyzer"
      ],
      "metadata": {
        "id": "HLzG79kE4nmz"
      },
      "execution_count": 4,
      "outputs": []
    },
    {
      "cell_type": "code",
      "source": [
        "import os\n",
        "os.chdir(\"drive/My Drive\")"
      ],
      "metadata": {
        "id": "hKJb37is8JML"
      },
      "execution_count": 5,
      "outputs": []
    },
    {
      "cell_type": "code",
      "source": [
        "folder = os.path.join('/content/drive/My Drive/cnnData3/cnnData3')"
      ],
      "metadata": {
        "id": "OK_VpB3L85W_"
      },
      "execution_count": 6,
      "outputs": []
    },
    {
      "cell_type": "code",
      "source": [
        "#import io"
      ],
      "metadata": {
        "id": "tQH2mO9uer0E"
      },
      "execution_count": 9,
      "outputs": []
    },
    {
      "cell_type": "code",
      "source": [
        "covid_set_lc = ('Covid-19','Covid', 'Corona', 'Coronavirus', 'Sars', 'Sars-Cov-2', 'Virus', 'Case', 'Cases', 'Pandemic', 'Epidemic', 'Endemic', 'Outbreak', 'Deaths', 'Masks', 'N95', 'Ppe','Contact Tracing', 'Contact-Tracing', 'Testing', 'Screening', 'Mandates', 'Social Distance', 'Social Distancing', 'Physical Distance', 'Physical Distancing', 'Self-Quarantine', 'Self Quarantine', 'Quarantine', 'Isolation', 'Isolating', 'Isolate', 'Self-Isolation', 'Self-Isolating', 'Self-Isolate', 'Martial Law', 'Curfew', 'Transmission', 'Spreading', 'Spread', 'Spreader', 'Super-Spreader', 'Fomite', 'Contagious', 'Infectious', 'Cluster', 'Incubation Period', 'Symptoms', 'Asymptomatic', 'Vaccine', 'Vaccines', 'Vaccination', 'Vaccinations', 'Vaccinating', 'Side-Effect', 'Side-Effects', 'Side Effect', 'Side Effects', 'Ventilator', 'Ventilators' )\n",
        "covid_set = set()\n",
        "for word in covid_set_lc:\n",
        "  covid_set.add(word)\n",
        "  covid_set.add(word.lower())\n",
        "  covid_set.add(word.upper())"
      ],
      "metadata": {
        "id": "0HpB-g0FIJ-h"
      },
      "execution_count": 84,
      "outputs": []
    },
    {
      "cell_type": "code",
      "source": [
        "def is_covid_related(headline, covid_set):\n",
        "  prev_word = ''\n",
        "  for word in headline.split():\n",
        "    if word in covid_set or prev_word + ' ' + word in covid_set:\n",
        "      return True\n",
        "    prev_word = word\n",
        "  return False\n"
      ],
      "metadata": {
        "id": "GaguvwADGlbS"
      },
      "execution_count": 86,
      "outputs": []
    },
    {
      "cell_type": "code",
      "source": [
        "is_covid_related(\"contact tracing isn't working\", covid_set)"
      ],
      "metadata": {
        "colab": {
          "base_uri": "https://localhost:8080/"
        },
        "id": "J5BA8Rs4IT6V",
        "outputId": "d7537cdc-8620-458c-b178-4e242d676f3d"
      },
      "execution_count": 89,
      "outputs": [
        {
          "output_type": "execute_result",
          "data": {
            "text/plain": [
              "True"
            ]
          },
          "metadata": {},
          "execution_count": 89
        }
      ]
    },
    {
      "cell_type": "code",
      "source": [
        "article_sentiments = []\n",
        "\n",
        "for filename in os.listdir(folder):\n",
        "  if \".txt\" in filename and is_covid_related(filename, covid_set):\n",
        "    #file_object = open(folder + \"/\" + filename, \"r\")\n",
        "    with open(folder + \"/\" + filename, 'r') as file_obj:\n",
        "      text = file_obj.read()\n",
        "      txt_list = text.split(',', 8)\n",
        "      date = txt_list[6]\n",
        "      sentiment = SentimentIntensityAnalyzer().polarity_scores(txt_list[7])['compound']\n",
        "      info = [date, sentiment]\n",
        "      article_sentiments.append(info)"
      ],
      "metadata": {
        "id": "siPGNMUtSbAx"
      },
      "execution_count": 90,
      "outputs": []
    },
    {
      "cell_type": "code",
      "source": [
        "len(article_sentiments)"
      ],
      "metadata": {
        "colab": {
          "base_uri": "https://localhost:8080/"
        },
        "id": "pS4q5whmGBAn",
        "outputId": "e30d3559-59ed-4d1f-b38b-c33cbc0b37d2"
      },
      "execution_count": 92,
      "outputs": [
        {
          "output_type": "execute_result",
          "data": {
            "text/plain": [
              "2294"
            ]
          },
          "metadata": {},
          "execution_count": 92
        }
      ]
    },
    {
      "cell_type": "markdown",
      "source": [
        "Trial Stuff"
      ],
      "metadata": {
        "id": "Sra4yHGfFLpq"
      }
    },
    {
      "cell_type": "code",
      "source": [
        "data = []\n",
        "\n",
        "for filename in os.listdir(folder): \n",
        "      # Your code comes here such as \n",
        "      if \".txt\" in filename: #isinstance(filename, io.IOBase):\n",
        "        #print(filename)\n",
        "        data.append(filename)\n",
        "#files = pd.read_csv(\"https://drive.google.com/drive/folders/1lHzdtFGWK_BibsSmBPy-mXJq5iPhkiYQ?usp=sharing\")"
      ],
      "metadata": {
        "id": "h4uMSbnW4kJ7"
      },
      "execution_count": 93,
      "outputs": []
    },
    {
      "cell_type": "code",
      "source": [
        "len(data)"
      ],
      "metadata": {
        "colab": {
          "base_uri": "https://localhost:8080/"
        },
        "id": "ovu0OMGGyJco",
        "outputId": "ca1e1e25-17a6-43a6-c853-6d0678035115"
      },
      "execution_count": 94,
      "outputs": [
        {
          "output_type": "execute_result",
          "data": {
            "text/plain": [
              "12696"
            ]
          },
          "metadata": {},
          "execution_count": 94
        }
      ]
    }
  ]
}